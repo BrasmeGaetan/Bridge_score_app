{
 "cells": [
  {
   "cell_type": "code",
   "execution_count": null,
   "metadata": {},
   "outputs": [],
   "source": []
  },
  {
   "cell_type": "code",
   "execution_count": 1,
   "metadata": {},
   "outputs": [],
   "source": [
    "def computeScore(trick, trump, level, doubled, vulnerability):\n",
    "\n",
    "    difference_trick = (trick - 7)\n",
    "    contract_win = difference_trick >= 0\n",
    "    overtricks = difference_trick - level + 1\n",
    "\n",
    "    if contract_win:  # Contrat gagné\n",
    "        if trump in ['S', 'H']: base_score = 30 * level\n",
    "        elif trump in ['D', 'C']: base_score = 20 * level\n",
    "        elif trump == 'N': base_score = 40 + (level - 1) * 30\n",
    "\n",
    "        if vulnerability:\n",
    "            match doubled:\n",
    "                case 0: return base_score + overtricks * (30 if trump in ['S', 'H', 'N'] else 20) \n",
    "                case 1: return base_score * 2 + overtricks * 100 + 500\n",
    "                case 2: return base_score * 4 + overtricks * 200 + 750\n",
    "        else:\n",
    "            match doubled:\n",
    "                case 0: return base_score + overtricks * (30 if trump in ['S', 'H', 'N'] else 20)\n",
    "                case 1: return base_score * 2 + overtricks * 50 + 300\n",
    "                case 2: return base_score * 4 + overtricks * 100 + 500\n",
    "\n",
    "    # Contrat perdu\n",
    "    else:\n",
    "        if vulnerability:\n",
    "            match doubled:\n",
    "                case 0: return difference_trick * 100\n",
    "                case 1: return -200 if difference_trick == -1 else -200 + 300 * (difference_trick + 1)\n",
    "                case 2: return -400 if difference_trick == -1 else -400 + 600 * (difference_trick + 1)\n",
    "            \n",
    "        else:\n",
    "            match doubled:\n",
    "                case 0: return difference_trick * 50\n",
    "                case 1:\n",
    "                    if difference_trick == -1: return -100\n",
    "                    else: return -100 + 200 * (difference_trick + 1) if difference_trick in [-2, -3] else -500 + 300 * (difference_trick + 3)\n",
    "                case 2:\n",
    "                    if difference_trick == -1: return -200\n",
    "                    else: return -200 + 400 * (difference_trick + 1) if difference_trick in [-2, -3] else -1000 + 600 * (difference_trick + 3)"
   ]
  },
  {
   "cell_type": "code",
   "execution_count": 4,
   "metadata": {},
   "outputs": [
    {
     "name": "stdout",
     "output_type": "stream",
     "text": [
      "-300\n"
     ]
    }
   ],
   "source": [
    "level = 2\n",
    "trick = 5\n",
    "trump = 'N' # N / S / H / D / C (notrump, spade, heart, diamond, club)\n",
    "double = 1 # 0 / 1 / 2 (rien, contré, surcontré)\n",
    "vulnerability = False\n",
    "\n",
    "print(computeScore(trick, trump, level, double, vulnerability))"
   ]
  },
  {
   "cell_type": "code",
   "execution_count": 5,
   "metadata": {},
   "outputs": [
    {
     "name": "stdout",
     "output_type": "stream",
     "text": [
      "['+2', '+1', '=', '-1', '-2', '-3', '-4', '-5', '-6', '-7', '-8', '-9', '-10', '-11']\n"
     ]
    }
   ],
   "source": [
    "level = 5\n",
    "tricks = ['+6', '+5', '+4', '+3', '+2', '+1', '=', '-1', '-2', '-3', '-4', '-5', '-6', '-7', '-8', '-9', '-10', '-11', '-12', '-13']\n",
    "\n",
    "print(tricks[level-1:level+13])"
   ]
  }
 ],
 "metadata": {
  "kernelspec": {
   "display_name": "Python 3",
   "language": "python",
   "name": "python3"
  },
  "language_info": {
   "codemirror_mode": {
    "name": "ipython",
    "version": 3
   },
   "file_extension": ".py",
   "mimetype": "text/x-python",
   "name": "python",
   "nbconvert_exporter": "python",
   "pygments_lexer": "ipython3",
   "version": "3.11.2"
  }
 },
 "nbformat": 4,
 "nbformat_minor": 2
}
